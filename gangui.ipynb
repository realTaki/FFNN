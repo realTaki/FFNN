{
 "cells": [
  {
   "cell_type": "code",
   "execution_count": 12,
   "metadata": {},
   "outputs": [],
   "source": [
    "class Pool:\n",
    "    def __init__(self, rD, rF):\n",
    "        self.rD = rD\n",
    "        self.rF = rF\n",
    "        self.sD = rD\n",
    "        self.sF = rF\n",
    "        # self.limitrF = rF\n",
    "        \n",
    "    def getNetPrice(self):\n",
    "        return self.sD/self.sF\n",
    "    \n",
    "    # def fillLiquidity(self):\n",
    "    #     net = self.getNet()\n",
    "    #     rD = self.limitrF*net\n",
    "    #     if rD < self.sD:\n",
    "    #         self.rF = self.limitrF\n",
    "    #         self.rD = rD\n",
    "    #         # print('fill liquidity success')\n",
    "    #     else:\n",
    "    #         self.rF = self.sD/net\n",
    "    #         self.rD = self.sD\n",
    "    #         # print('fill liquidity failed')\n",
    "        \n",
    "    def buyF(self, n):\n",
    "        # assert n > 0\n",
    "        # assert self.rF > n\n",
    "        if self.rF > n > 0:\n",
    "            # exchange\n",
    "            K = self.rD*self.rF\n",
    "            self.rF -= n\n",
    "            rD = K/self.rF\n",
    "            incomeD = rD - self.rD\n",
    "            # supply change\n",
    "            self.sD += incomeD\n",
    "            self.sF += (n*0.9985) # 0.15% fee\n",
    "            # net asset change\n",
    "            # [1]repair by reduce rD\n",
    "            net = self.sD/self.sF\n",
    "            self.rD = self.rF * net\n",
    "            # [2]do not repair\n",
    "            # self.rD = rD\n",
    "            return True\n",
    "        else:\n",
    "            return False\n",
    "    \n",
    "    def sellF(self, n):\n",
    "        # assert n > 0\n",
    "        # assert self.sF > n # 可能市面上都没有足够的F了 \n",
    "        # 如果该池铸出的流动性全部收回了，此处应当如何处理？\n",
    "        if self.sF > n >0:\n",
    "            # exchange\n",
    "            K = self.rD*self.rF\n",
    "            rF = self.rF + n\n",
    "            rD = K/rF\n",
    "            outD = self.rD - rD\n",
    "            # supply change\n",
    "            self.sD -= (outD*0.9985) # 0.15% fee\n",
    "            self.sF -= n\n",
    "            # net asset change TODO--\n",
    "            net = self.sD/self.sF\n",
    "            # [1] repair by raise rD first？\n",
    "            # if rF * net < self.sD:\n",
    "            #     self.rF = rF\n",
    "            #     self.rD = rF * net\n",
    "            # else:\n",
    "            #     # repair by reduce rF\n",
    "            #     self.rD = rD\n",
    "            #     self.rF = rD / net\n",
    "            # [2] only repair by reduce rF\n",
    "            self.rD = rD\n",
    "            self.rF = rD / net\n",
    "            return True\n",
    "        else:\n",
    "            return False\n",
    "    \n",
    "    # def sell_avg_price(self, n):\n",
    "    #     if self.sF > n > 0:\n",
    "    #         K = self.rD*self.rF\n",
    "    #         rF = self.rF + n\n",
    "    #         rD = K/rF\n",
    "    #         outD = self.rD - rD\n",
    "    #         return outD*0.9985\n",
    "    #     else:\n",
    "    #         return 0"
   ]
  },
  {
   "cell_type": "code",
   "execution_count": 19,
   "metadata": {},
   "outputs": [],
   "source": [
    "AFpool = Pool(1000, 1000)\n",
    "BFPool = Pool(1000, 1000)\n",
    "\n",
    "# 加如市面上有无限供应的A=0.8B\n",
    "# 1. 卖出A买入F\n",
    "# 2. 卖出F买入B\n",
    "# 3. 2:1\n",
    "while AFpool.getNetPrice()/BFPool.getNetPrice() < 1.1:\n",
    "        AFpool.buyF(1)\n",
    "        if not BFPool.sellF(1):\n",
    "            break"
   ]
  },
  {
   "cell_type": "code",
   "execution_count": 20,
   "metadata": {},
   "outputs": [
    {
     "data": {
      "text/plain": [
       "(1997.5014999999246,\n",
       " 2007.7749058673164,\n",
       " 1,\n",
       " 1.005143127986333,\n",
       " 1.005143127986333)"
      ]
     },
     "execution_count": 20,
     "metadata": {},
     "output_type": "execute_result"
    }
   ],
   "source": [
    "AFpool.sF, AFpool.sD, AFpool.rF, AFpool.rD, AFpool.getNetPrice()"
   ]
  },
  {
   "cell_type": "code",
   "execution_count": 21,
   "metadata": {},
   "outputs": [
    {
     "data": {
      "text/plain": [
       "(1,\n",
       " 2.444809948479451,\n",
       " 0.3870359301370557,\n",
       " 0.9462292924180715,\n",
       " 2.444809948479451)"
      ]
     },
     "execution_count": 21,
     "metadata": {},
     "output_type": "execute_result"
    }
   ],
   "source": [
    "BFPool.sF, BFPool.sD, BFPool.rF, BFPool.rD, BFPool.getNetPrice()"
   ]
  },
  {
   "cell_type": "code",
   "execution_count": null,
   "metadata": {},
   "outputs": [],
   "source": [
    "# 如果是由市场主动构成呢？风险对冲工具。"
   ]
  }
 ],
 "metadata": {
  "kernelspec": {
   "display_name": "py310",
   "language": "python",
   "name": "python3"
  },
  "language_info": {
   "codemirror_mode": {
    "name": "ipython",
    "version": 3
   },
   "file_extension": ".py",
   "mimetype": "text/x-python",
   "name": "python",
   "nbconvert_exporter": "python",
   "pygments_lexer": "ipython3",
   "version": "3.10.4"
  },
  "orig_nbformat": 4
 },
 "nbformat": 4,
 "nbformat_minor": 2
}
