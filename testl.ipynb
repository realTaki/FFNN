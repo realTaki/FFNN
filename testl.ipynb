{
 "cells": [
  {
   "cell_type": "code",
   "execution_count": 32,
   "metadata": {},
   "outputs": [],
   "source": [
    "class pool:\n",
    "    def __init__(self,rD ,sF):\n",
    "        self.rD = rD\n",
    "        self.sF = sF\n",
    "        self.rF = sF\n",
    "        self.sD = rD\n",
    "        self.limitrF = sF\n",
    "        \n",
    "    def getNetPrice(self):\n",
    "        return self.sD/self.sF\n",
    "    \n",
    "    def getMarketPrice(self):\n",
    "        return self.rD/self.rF\n",
    "    \n",
    "    def getPrice(self, buy=True):\n",
    "        if buy:\n",
    "            return max(self.getNetPrice(), self.getMarketPrice())\n",
    "        else:\n",
    "            return min(self.getNetPrice(), self.getMarketPrice())\n",
    "    \n",
    "    def fillLiquidity(self):\n",
    "        net = self.getNetPrice()\n",
    "        rD = self.limitrF*net\n",
    "        if rD < self.sD:\n",
    "            self.rF = self.limitrF\n",
    "            self.rD = rD\n",
    "        else:\n",
    "            self.rF = self.sD/net\n",
    "            self.rD = self.sD\n",
    "        \n",
    "    def buyF(self, n):\n",
    "        if self.rF > n > 0:\n",
    "            net_p = self.getNetPrice()\n",
    "            market_p = self.getMarketPrice()\n",
    "            self.sF += (n*0.9985) # 0.15% fee\n",
    "            if market_p >= net_p:\n",
    "                K = self.rD*self.rF\n",
    "                self.rF -= n\n",
    "                rD = K/self.rF\n",
    "                # exchange by K AMM\n",
    "                incomeD = rD - self.rD\n",
    "                # supply change\n",
    "                self.sD += incomeD\n",
    "                self.rD = rD\n",
    "            else:\n",
    "                self.rF -= n\n",
    "                # exchange by net price\n",
    "                incomeD = n*net_p\n",
    "                self.sD += incomeD\n",
    "                # [1]repair by reduce rD\n",
    "                self.rD += incomeD\n",
    "            return True\n",
    "        else:\n",
    "            return False\n",
    "    \n",
    "    def sellF(self, n):\n",
    "        # assert self.sF > n # 可能市面上都没有足够的F了 \n",
    "        # 如果该池铸出的流动性全部收回了，此处应当如何处理？\n",
    "        if self.sF > n >0:\n",
    "            net_p = self.getNetPrice()\n",
    "            market_p = self.getMarketPrice()\n",
    "            self.sF -= n\n",
    "            if net_p >= market_p:\n",
    "                K = self.rD*self.rF\n",
    "                self.rF += n\n",
    "                # exchange by market price\n",
    "                rD = K/self.rF\n",
    "                outD = self.rD - rD\n",
    "                self.rD = rD\n",
    "            else:\n",
    "                self.rF += n\n",
    "                # exchange by net price\n",
    "                outD = n*net_p\n",
    "                self.rD -= outD\n",
    "            # supply change\n",
    "            self.sD -= (outD*0.9985) # 0.15% fee           \n",
    "            return True\n",
    "        else:\n",
    "            return False"
   ]
  },
  {
   "cell_type": "code",
   "execution_count": 33,
   "metadata": {},
   "outputs": [
    {
     "name": "stdout",
     "output_type": "stream",
     "text": [
      "1.2345679012345678\n",
      "1.0102387699332738\n",
      "1.2345679012345672\n",
      "1.0102387699332778\n"
     ]
    }
   ],
   "source": [
    "p1 = pool(1000,1000)\n",
    "p1.buyF(100)\n",
    "print(p1.getMarketPrice())\n",
    "print(p1.getNetPrice())\n",
    "\n",
    "p2 = pool(1000,1000)\n",
    "for i in range(100):\n",
    "    p2.buyF(1)\n",
    "print(p2.getMarketPrice())\n",
    "print(p2.getNetPrice())"
   ]
  },
  {
   "cell_type": "code",
   "execution_count": 34,
   "metadata": {},
   "outputs": [
    {
     "name": "stdout",
     "output_type": "stream",
     "text": [
      "0.8264462809917356\n",
      "1.0102525252525252\n",
      "0.8264462809917354\n",
      "1.0102525252525256\n"
     ]
    }
   ],
   "source": [
    "p1 = pool(1000,1000)\n",
    "p1.sellF(100)\n",
    "print(p1.getMarketPrice())\n",
    "print(p1.getNetPrice())\n",
    "\n",
    "p2 = pool(1000,1000)\n",
    "for i in range(100):\n",
    "    p2.sellF(1)\n",
    "print(p2.getMarketPrice())\n",
    "print(p2.getNetPrice())"
   ]
  },
  {
   "cell_type": "code",
   "execution_count": 48,
   "metadata": {},
   "outputs": [
    {
     "name": "stdout",
     "output_type": "stream",
     "text": [
      "1.0101161616161616\n",
      "1.010404085865405\n",
      "1.0025047581417517\n",
      "1.0055130276885844\n"
     ]
    }
   ],
   "source": [
    "p1 = pool(1000,1000)\n",
    "p1.sellF(100)\n",
    "p1.buyF(100)\n",
    "print(p1.getMarketPrice())\n",
    "print(p1.getNetPrice())\n",
    "\n",
    "p2 = pool(1000,1000)\n",
    "for i in range(1000):\n",
    "    assert p2.sellF(1)\n",
    "    assert p2.buyF(1)\n",
    "print(p2.getMarketPrice())\n",
    "print(p2.getNetPrice())"
   ]
  },
  {
   "cell_type": "code",
   "execution_count": 59,
   "metadata": {},
   "outputs": [
    {
     "name": "stdout",
     "output_type": "stream",
     "text": [
      "1.0103903284825462\n",
      "1.0103900784450406\n",
      "1.0040124012828595\n",
      "1.004007131430384\n"
     ]
    }
   ],
   "source": [
    "p1 = pool(1000,1000)\n",
    "p1.buyF(100)\n",
    "p1.sellF(99.85)\n",
    "print(p1.getMarketPrice())\n",
    "print(p1.getNetPrice())\n",
    "\n",
    "p2 = pool(1000,1000)\n",
    "for i in range(1000):\n",
    "    assert p2.buyF(1)\n",
    "    assert p2.sellF(0.9985)\n",
    "print(p2.getMarketPrice())\n",
    "print(p2.getNetPrice())"
   ]
  },
  {
   "cell_type": "code",
   "execution_count": 60,
   "metadata": {},
   "outputs": [
    {
     "data": {
      "text/plain": [
       "1.004007131430384"
      ]
     },
     "execution_count": 60,
     "metadata": {},
     "output_type": "execute_result"
    }
   ],
   "source": [
    "p2.fillLiquidity()\n",
    "p2.getNetPrice()"
   ]
  },
  {
   "cell_type": "code",
   "execution_count": 63,
   "metadata": {},
   "outputs": [
    {
     "data": {
      "image/png": "[encoded data removed]",
      "text/plain": [
       "<Figure size 640x480 with 2 Axes>"
      ]
     },
     "metadata": {},
     "output_type": "display_data"
    }
   ],
   "source": [
    "import matplotlib.pyplot as plt\n",
    "import random\n",
    "\n",
    "# draw the net asset curve\n",
    "def draw_net_asset_curve(p, n):\n",
    "    net_price = []\n",
    "    market_price = []\n",
    "    k_list = []\n",
    "    k_begin = p.rD*p.rF\n",
    "    step = n//1000\n",
    "    for i in range(n):\n",
    "        # random trade\n",
    "        dirction = random.randint(0,1)\n",
    "        if dirction > 0:\n",
    "            p.buyF(1)\n",
    "        else:\n",
    "            p.sellF(0.9985)\n",
    "        k_new = p.rD*p.rF/k_begin\n",
    "        if k_new < 0.8:\n",
    "            p.fillLiquidity()\n",
    "        if i % step == 0:\n",
    "            net_price.append(p.getNetPrice())\n",
    "            market_price.append(p.getMarketPrice())\n",
    "            k_list.append(k_new)\n",
    "    plt.plot(net_price, color='red')\n",
    "    plt.plot(market_price, color='blue')\n",
    "    plt.twinx()\n",
    "    plt.plot(k_list, color='green')\n",
    "    plt.show()\n",
    "\n",
    "p = pool(10000,10000)\n",
    "nets = draw_net_asset_curve(p, 100000)"
   ]
  },
  {
   "cell_type": "code",
   "execution_count": 64,
   "metadata": {},
   "outputs": [
    {
     "name": "stdout",
     "output_type": "stream",
     "text": [
      "10638.101695571246 10008.936999984708 10715.594311013354 9916.126000000026\n"
     ]
    }
   ],
   "source": [
    "print(p.rD, p.rF, p.sD, p.sF)"
   ]
  },
  {
   "cell_type": "code",
   "execution_count": 98,
   "metadata": {},
   "outputs": [
    {
     "data": {
      "text/plain": [
       "[1.0202822039437895,\n",
       " 1.021531860633045,\n",
       " 1.0224711139068883,\n",
       " 1.024669436223167,\n",
       " 1.0262454627954292,\n",
       " 1.0282487364503792,\n",
       " 1.0299417798347401,\n",
       " 1.0315340793376984,\n",
       " 1.032918060082778,\n",
       " 1.0344126600828962]"
      ]
     },
     "execution_count": 98,
     "metadata": {},
     "output_type": "execute_result"
    }
   ],
   "source": [
    "index = 920\n",
    "nets[index:index+10]"
   ]
  },
  {
   "cell_type": "code",
   "execution_count": 139,
   "metadata": {},
   "outputs": [
    {
     "data": {
      "text/plain": [
       "0.75"
      ]
     },
     "execution_count": 139,
     "metadata": {},
     "output_type": "execute_result"
    }
   ],
   "source": [
    "(5000000 * 0.0015)/10_000"
   ]
  },
  {
   "cell_type": "code",
   "execution_count": 82,
   "metadata": {},
   "outputs": [
    {
     "name": "stdout",
     "output_type": "stream",
     "text": [
      "ts begin 30000\n"
     ]
    },
    {
     "data": {
      "image/png": "[encoded data removed]",
      "text/plain": [
       "<Figure size 640x480 with 1 Axes>"
      ]
     },
     "metadata": {},
     "output_type": "display_data"
    },
    {
     "data": {
      "text/plain": [
       "35905.05100002719"
      ]
     },
     "execution_count": 82,
     "metadata": {},
     "output_type": "execute_result"
    }
   ],
   "source": [
    "import numpy as np\n",
    "# n个10000稳定币的池子\n",
    "num_pools = 3\n",
    "num_tokens = 10000\n",
    "pools = [pool(num_tokens,num_tokens) for i in range(num_pools)]\n",
    "ts = num_tokens*num_pools\n",
    "print('ts begin', ts)\n",
    "\n",
    "net_prices = [[pools[i].getNetPrice()] for i in range(num_pools)]\n",
    "market_prices = [[pools[i].getMarketPrice()] for i in range(num_pools)]\n",
    "# k_list = [[] for i in range(num_pools)]\n",
    "k_begin = num_tokens**2\n",
    "step = ts//100\n",
    "\n",
    "trasctions = 1*ts\n",
    "for i in range(trasctions):\n",
    "    # random trade\n",
    "    # poolid = random.randint(0,num_pools-1)\n",
    "    direction = random.randint(0,9)\n",
    "    poolid = 0\n",
    "    if direction > 3:\n",
    "        poolnets = [p.getPrice(buy=True) for p in pools]\n",
    "        poolid = poolnets.index(min(poolnets))\n",
    "        if pools[poolid].buyF(1):\n",
    "            ts += 0.9985\n",
    "    else:\n",
    "        poolnets = [p.getPrice(buy=False) for p in pools]\n",
    "        poolid = poolnets.index(max(poolnets))\n",
    "        if pools[poolid].sellF(1):\n",
    "            ts -= 1\n",
    "    k_new = pools[poolid].rD*pools[poolid].rF/k_begin\n",
    "    if k_new < 0.8:\n",
    "        pools[poolid].fillLiquidity()\n",
    "    if i % step == 0:\n",
    "        net_prices[poolid].append(pools[poolid].getNetPrice())\n",
    "        market_prices[poolid].append(pools[poolid].getMarketPrice())\n",
    "        # k_list[poolid].append(k_new)\n",
    "\n",
    "colors = ['r', 'g', 'b', 'c', 'm', 'y', 'k', 'w']\n",
    "for i in range(len(net_prices)):\n",
    "    plt.plot(net_prices[i], color=colors[i])\n",
    "    plt.plot(market_prices[i], color=colors[i])\n",
    "\n",
    "# plt.twinx()\n",
    "# for l in k_list:\n",
    "\n",
    "# plt.plot(k_list, color='blue')\n",
    "plt.show()\n",
    "ts\n"
   ]
  },
  {
   "cell_type": "code",
   "execution_count": 83,
   "metadata": {},
   "outputs": [
    {
     "name": "stdout",
     "output_type": "stream",
     "text": [
      "nets: [1.2299257013930878, 1.0470084818861787, 1.0384429062708362]\n",
      "r_F [8528, 7770, 7770]\n",
      "s_F [11451.742499995873, 12226.653499999318, 12226.654999999319]\n",
      "r_D [14119.580578812616, 12870.01287020591, 12870.012870012859]\n",
      "s_D [14139.024786624934, 12870.01437020615, 12870.012870012859]\n",
      "39879.05202684394\n",
      "1.1106808350394417\n",
      "35905.050999994506 35905.05100002719\n"
     ]
    }
   ],
   "source": [
    "print('nets:',[item[-1]for item in net_prices])\n",
    "print('r_F',[item.rF for item in pools])\n",
    "print('s_F',[item.sF for item in pools])\n",
    "print('r_D',[item.rD for item in pools])\n",
    "print('s_D',[item.sD for item in pools])\n",
    "\n",
    "total_asset = sum([item.sD for item in pools])\n",
    "total_mint = sum([item.sF for item in pools])\n",
    "print(total_asset)\n",
    "print(total_asset/ts)\n",
    "print(total_mint, ts)\n"
   ]
  },
  {
   "cell_type": "code",
   "execution_count": 304,
   "metadata": {},
   "outputs": [
    {
     "data": {
      "image/png": "[encoded data removed]",
      "text/plain": [
       "<Figure size 640x480 with 1 Axes>"
      ]
     },
     "metadata": {},
     "output_type": "display_data"
    }
   ],
   "source": [
    "trasctions = 10000\n",
    "for i in range(trasctions):\n",
    "    \n",
    "    if pools[1].buyF(2):\n",
    "        ts += 0.9985*2\n",
    "    if pools[0].sell_price(1)>0.66:\n",
    "        if pools[0].sellF(1):\n",
    "            ts -= 1\n",
    "    if pools[2].sell_price(1)>0.66:\n",
    "        if pools[2].sellF(1):\n",
    "            ts -= 1\n",
    "    \n",
    "    pools[0].fillLiquidity()\n",
    "    pools[2].fillLiquidity()\n",
    "\n",
    "    if i % step == 0:\n",
    "        net_assets[0].append(pools[0].getNet())\n",
    "        # net_assets[1].append(0)\n",
    "        net_assets[2].append(pools[2].getNet())\n",
    "colors = ['r', 'g', 'b', 'c', 'm', 'y', 'k', 'w']\n",
    "for i in range(len(net_assets)):\n",
    "    plt.plot(net_assets[i], color=colors[i])"
   ]
  },
  {
   "cell_type": "code",
   "execution_count": 307,
   "metadata": {},
   "outputs": [
    {
     "name": "stdout",
     "output_type": "stream",
     "text": [
      "nets: [8.653240597394081, 1.0020007984117303, 2.7482748428758774]\n",
      "r_F [0.13299999860100797, 1, 0.5880000235774787]\n",
      "s_F [0.13299999860100797, 38175.209000023875, 0.5880000235774787]\n",
      "r_D [1.1508809873475982, 1.0029764403460437, 1.6159856724084076]\n",
      "s_D [1.1508809873475982, 38288.83523231019, 1.6159856724084076]\n",
      "2.766866659760126\n",
      "7.247673232201107e-05\n",
      "38175.93000004605 38175.93000008684\n"
     ]
    }
   ],
   "source": [
    "print('nets:',[item[-1]for item in net_assets])\n",
    "print('r_F',[item.rF for item in pools])\n",
    "print('s_F',[item.sF for item in pools])\n",
    "print('r_D',[item.rD for item in pools])\n",
    "print('s_D',[item.sD for item in pools])\n",
    "\n",
    "total_asset = sum([item.sD for item in pools])-pools[1].sD\n",
    "total_mint = sum([item.sF for item in pools])\n",
    "print(total_asset)\n",
    "print(total_asset/ts)\n",
    "print(total_mint, ts)\n"
   ]
  },
  {
   "cell_type": "code",
   "execution_count": 157,
   "metadata": {},
   "outputs": [
    {
     "data": {
      "text/plain": [
       "array([2, 2, 2])"
      ]
     },
     "execution_count": 157,
     "metadata": {},
     "output_type": "execute_result"
    }
   ],
   "source": [
    "import numpy as np\n",
    "net_assets = np.array([[1,2],[2,2],[3,2]])\n",
    "net_assets[:,-1]"
   ]
  },
  {
   "cell_type": "code",
   "execution_count": 290,
   "metadata": {},
   "outputs": [
    {
     "data": {
      "text/plain": [
       "True"
      ]
     },
     "execution_count": 290,
     "metadata": {},
     "output_type": "execute_result"
    }
   ],
   "source": [
    "pools[0].sellF(1)"
   ]
  },
  {
   "cell_type": "code",
   "execution_count": null,
   "metadata": {},
   "outputs": [],
   "source": [
    "class singlePool:\n",
    "    def __init__(self, rD, rF):\n",
    "        self.rD = rD\n",
    "        self.rF = rF\n",
    "        self.sD = rD\n",
    "        self.limitrF = rF\n",
    "\n",
    "class AMM:\n",
    "    def __init__(self):\n",
    "        self.pools = []\n",
    "        self.asset_in_F = 0\n",
    "        self.sF = 0\n",
    "    \n",
    "    def addPool(self, rD, rF):\n",
    "        self.pools.append(singlePool(rD, rF))\n",
    "        self.asset_in_F += rF\n",
    "        return len(self.pools)-1\n",
    "        \n",
    "    def getNet(self):\n",
    "        return self.asset_in_F/self.sF\n",
    "    \n",
    "    def fillLiquidity(self):\n",
    "        net = self.getNet()\n",
    "        rD = self.limitrF*net\n",
    "        if rD < self.sD:\n",
    "            self.rF = self.limitrF\n",
    "            self.rD = rD\n",
    "            # print('fill liquidity success')\n",
    "        else:\n",
    "            self.rF = self.sD/net\n",
    "            self.rD = self.sD\n",
    "            # print('fill liquidity failed')\n",
    "        \n",
    "    def buyF(self, n):\n",
    "        # assert n > 0\n",
    "        # assert self.rF > n\n",
    "        if self.rF > n > 0:\n",
    "            # exchange\n",
    "            K = self.rD*self.rF\n",
    "            self.rF -= n\n",
    "            rD = K/self.rF\n",
    "            incomeD = rD - self.rD\n",
    "            # supply change\n",
    "            self.sD += incomeD\n",
    "            self.sF += (n*0.9985) # 0.15% fee\n",
    "            # net asset change\n",
    "            \n",
    "            # [1]repair by reduce rD\n",
    "            # net = self.sD/self.sF\n",
    "            # self.rD = self.rF * net\n",
    "            # [2]do not repair\n",
    "            self.rD = rD\n",
    "            return True\n",
    "        else:\n",
    "            return False\n",
    "    \n",
    "    def sellF(self, n):\n",
    "        # assert n > 0\n",
    "        # assert self.sF > n # 可能市面上都没有足够的F了 \n",
    "        # 如果该池铸出的流动性全部收回了，此处应当如何处理？\n",
    "        if self.sF > n >0:\n",
    "            # exchange\n",
    "            K = self.rD*self.rF\n",
    "            rF = self.rF + n\n",
    "            rD = K/rF\n",
    "            outD = self.rD - rD\n",
    "            # supply change\n",
    "            self.sD -= (outD*0.9985) # 0.15% fee\n",
    "            self.sF -= n\n",
    "            # net asset change TODO--\n",
    "            net = self.sD/self.sF\n",
    "            # [1] repair by raise rD first？\n",
    "            # if rF * net < self.sD:\n",
    "            #     self.rF = rF\n",
    "            #     self.rD = rF * net\n",
    "            # else:\n",
    "            #     # repair by reduce rF\n",
    "            #     self.rD = rD\n",
    "            #     self.rF = rD / net\n",
    "            # [2] only repair by reduce rF\n",
    "            self.rD = rD\n",
    "            self.rF = rD / net\n",
    "            return True\n",
    "        else:\n",
    "            return False\n",
    "    \n",
    "    def sell_price(self, n):\n",
    "        if self.sF > n > 0:\n",
    "            K = self.rD*self.rF\n",
    "            rF = self.rF + n\n",
    "            rD = K/rF\n",
    "            outD = self.rD - rD\n",
    "            return outD*0.9985\n",
    "        else:\n",
    "            return 0"
   ]
  },
  {
   "cell_type": "code",
   "execution_count": 2,
   "metadata": {},
   "outputs": [
    {
     "name": "stdout",
     "output_type": "stream",
     "text": [
      "0.8264462809917356\n",
      "1.0101010101010102\n"
     ]
    }
   ],
   "source": []
  }
 ],
 "metadata": {
  "kernelspec": {
   "display_name": "py310",
   "language": "python",
   "name": "python3"
  },
  "language_info": {
   "codemirror_mode": {
    "name": "ipython",
    "version": 3
   },
   "file_extension": ".py",
   "mimetype": "text/x-python",
   "name": "python",
   "nbconvert_exporter": "python",
   "pygments_lexer": "ipython3",
   "version": "3.10.4"
  },
  "orig_nbformat": 4
 },
 "nbformat": 4,
 "nbformat_minor": 2
}
