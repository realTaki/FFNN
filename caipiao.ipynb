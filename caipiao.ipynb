{
 "cells": [
  {
   "cell_type": "code",
   "execution_count": 1,
   "metadata": {},
   "outputs": [],
   "source": [
    "class Pool:\n",
    "    def __init__(self, rD, rF):\n",
    "        self.rD = rD\n",
    "        self.rF = rF\n",
    "        \n",
    "    def getPrice(self):\n",
    "        return self.rD/self.rF\n",
    "        \n",
    "    def buyF(self, n):\n",
    "        # assert n > 0\n",
    "        # assert self.rF > n\n",
    "        if self.rF > n > 0:\n",
    "            net = self.rD/self.rF\n",
    "            # supply change\n",
    "            self.rD += n * net * 1.0015\n",
    "            self.rF += n\n",
    "            return True\n",
    "        else:\n",
    "            return False\n",
    "    \n",
    "    def sellF(self, n):\n",
    "        # assert n > 0\n",
    "        # assert self.sF > n # 可能市面上都没有足够的F了 \n",
    "        # 如果该池铸出的流动性全部收回了，此处应当如何处理？\n",
    "        if self.rF > n >0:\n",
    "            net = self.rD/self.rF\n",
    "            outD = n * net\n",
    "            # supply change\n",
    "            self.rD -= (outD*0.9985) # 0.15% fee\n",
    "            self.rF -= n\n",
    "            return True\n",
    "        else:\n",
    "            return False"
   ]
  },
  {
   "cell_type": "code",
   "execution_count": 3,
   "metadata": {},
   "outputs": [],
   "source": [
    "AFpool = Pool(1000, 1000)\n",
    "BFPool = Pool(1000, 1000)\n",
    "\n",
    "# 加如市面上有无限供应的A=0.8B\n",
    "# 1. 卖出A买入F\n",
    "# 2. 卖出F买入B\n",
    "# 3. 2:1\n",
    "while AFpool.getPrice()/BFPool.getPrice() < 1.1:\n",
    "        AFpool.buyF(1)\n",
    "        if not BFPool.sellF(1):\n",
    "            break"
   ]
  },
  {
   "cell_type": "code",
   "execution_count": 5,
   "metadata": {},
   "outputs": [
    {
     "data": {
      "text/plain": [
       "(2000, 2002.0797712180251, 1.0010398856090126)"
      ]
     },
     "execution_count": 5,
     "metadata": {},
     "output_type": "execute_result"
    }
   ],
   "source": [
    "AFpool.rF, AFpool.rD, AFpool.getPrice()"
   ]
  },
  {
   "cell_type": "code",
   "execution_count": 6,
   "metadata": {},
   "outputs": [
    {
     "data": {
      "text/plain": [
       "(1, 1.011288093317697, 1.011288093317697)"
      ]
     },
     "execution_count": 6,
     "metadata": {},
     "output_type": "execute_result"
    }
   ],
   "source": [
    "BFPool.rF, BFPool.rD, BFPool.getPrice()"
   ]
  }
 ],
 "metadata": {
  "kernelspec": {
   "display_name": "py310",
   "language": "python",
   "name": "python3"
  },
  "language_info": {
   "codemirror_mode": {
    "name": "ipython",
    "version": 3
   },
   "file_extension": ".py",
   "mimetype": "text/x-python",
   "name": "python",
   "nbconvert_exporter": "python",
   "pygments_lexer": "ipython3",
   "version": "3.10.4"
  },
  "orig_nbformat": 4
 },
 "nbformat": 4,
 "nbformat_minor": 2
}
