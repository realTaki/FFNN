{
 "cells": [
  {
   "cell_type": "code",
   "execution_count": 1,
   "metadata": {},
   "outputs": [
    {
     "name": "stderr",
     "output_type": "stream",
     "text": [
      "/home/jaj/miniconda3/envs/uer/lib/python3.8/site-packages/tqdm/auto.py:22: TqdmWarning: IProgress not found. Please update jupyter and ipywidgets. See https://ipywidgets.readthedocs.io/en/stable/user_install.html\n",
      "  from .autonotebook import tqdm as notebook_tqdm\n"
     ]
    },
    {
     "data": {
      "text/plain": [
       "device(type='cuda', index=0)"
      ]
     },
     "execution_count": 1,
     "metadata": {},
     "output_type": "execute_result"
    }
   ],
   "source": [
    "import torch\n",
    "from torchvision import datasets\n",
    "from torchvision import transforms\n",
    "import matplotlib.pyplot as plt\n",
    "import numpy as np\n",
    "\n",
    "# Transforms images to a PyTorch Tensor\n",
    "tensor_transform = transforms.ToTensor()\n",
    "\n",
    "# Download the MNIST Dataset\n",
    "dataset = datasets.MNIST(root=\"./data\",\n",
    "                         train=True,\n",
    "                         download=True,\n",
    "                         transform=tensor_transform)\n",
    "\n",
    "# DataLoader is used to load the dataset\n",
    "# for training\n",
    "loader = torch.utils.data.DataLoader(dataset=dataset,\n",
    "                                     batch_size=1024,\n",
    "                                     shuffle=True)\n",
    "\n",
    "device = torch.device(\"cuda:0\" if torch.cuda.is_available() else \"cpu\")\n",
    "device"
   ]
  },
  {
   "cell_type": "code",
   "execution_count": 3,
   "metadata": {},
   "outputs": [],
   "source": [
    "class FFHead(torch.nn.Module):\n",
    "    def __init__(self, input_size, output_size, lr=1e-4):\n",
    "        super().__init__()\n",
    "        self.input_size = input_size\n",
    "        self.output_size = output_size\n",
    "        self.lr = lr\n",
    "\n",
    "        self.W = torch.randn(input_size, output_size)\n",
    "        self.b = torch.randn(output_size)\n",
    "\n",
    "    def update(self, new_img, past_img_out):\n",
    "        # 由于是第一层，所以可以拿到真实标签y和上次操作导致的预测值y_hat\n",
    "        # 如果y_hat和y相差很大，说明这次操作是不合理的，需要调整\n",
    "        # 由于autoencoder的原理，我们可以估计理想的l(F(x))应该等价于一个线性模型 y = x\n",
    "        # 达到理想时：l(F(past_img_out)) = l(new_img) = past_img_out\n",
    "        # 因为l是个线性层，所以后续模型也可以认为是一个线性层，假设为F\n",
    "        # new_img = (img @ W + b) @ F + b'\n",
    "        # 可以推算出要拟合需要的W和b：past_img_out = new_img @ w_target + b_target\n",
    "        \n",
    "        # past_img_out = img @ self.W + self.b\n",
    "        # 因为w_target和b_target不能同时计算，所以只能先牺牲一个的精度\n",
    "        b_target = self.b\n",
    "        w_target = torch.inverse(new_img) @ (past_img_out + b_target)\n",
    "        b_target = past_img_out - new_img @ w_target\n",
    "\n",
    "        self.W = self.target * self.lr + self.W * (1 - self.lr)\n",
    "        self.b = self.target * self.lr + self.b * (1 - self.lr)\n",
    "\n",
    "        return self.forward(new_img)\n",
    "    \n",
    "    def forward(self, x):\n",
    "        x = x @ self.W\n",
    "        x = x + self.b\n",
    "        return x"
   ]
  },
  {
   "cell_type": "code",
   "execution_count": null,
   "metadata": {},
   "outputs": [],
   "source": [
    "import tqdm\n",
    "import numpy as np\n",
    "\n",
    "\n",
    "class FFAE(torch.nn.Module):\n",
    "    def __init__(self, eps=1e-2, init_dataloader=None):\n",
    "        super().__init__()\n",
    "        self.eps = eps\n",
    "        self.units = torch.nn.Sequential(\n",
    "            FFHead(28*28, 128, activation=torch.nn.LeakyReLU()),\n",
    "            FFHead(128, 64,  activation=torch.nn.LeakyReLU()),\n",
    "            FFHead(64, 36,  activation=torch.nn.LeakyReLU()),\n",
    "            FFHead(36, 18,  activation=torch.nn.LeakyReLU()),\n",
    "            FFHead(18, 9,),\n",
    "            FFHead(9, 18,),\n",
    "            FFHead(18, 36,  activation=torch.nn.LeakyReLU()),\n",
    "            FFHead(36, 64,  activation=torch.nn.LeakyReLU()),\n",
    "            FFHead(64, 128,  activation=torch.nn.LeakyReLU()),\n",
    "            FFHead(128, 28*28, activation=torch.nn.Sigmoid()),\n",
    "        )\n",
    "        self.loss = torch.nn.MSELoss()\n",
    "\n",
    "        if init_dataloader is not None:\n",
    "            for image, _ in (pbar := tqdm.tqdm(loader)):\n",
    "                # Reshaping the image to (-1, 784)\n",
    "                x = image.reshape(-1, 28*28).to(device)\n",
    "                loss = 0\n",
    "                for unit in self.units:\n",
    "                    loss, x = unit.init_parameters(x)\n",
    "                pbar.set_description(f\"Loss: {loss.item():.4f}\")\n",
    "\n",
    "    def forward(self, x):\n",
    "        with torch.no_grad():\n",
    "            for unit in self.units:\n",
    "                x = unit(x)\n",
    "        return x\n",
    "\n",
    "    def update(self, img, times=10):\n",
    "        # img = x.clone().detach()\n",
    "        x = img.clone().detach()\n",
    "        buffer = []\n",
    "        with torch.no_grad():\n",
    "            for unit in self.units[:-1]:\n",
    "                x = unit(x)\n",
    "                buffer.append(x)\n",
    "\n",
    "        _, x = self.units[-1].update(x, torch.logit(img, self.eps))\n",
    "\n",
    "        all_loss = []\n",
    "        for t in range(times):\n",
    "            # x = img.clone().detach()\n",
    "            _ = self.units[0].update(x, buffer.pop(0))\n",
    "            x = self.units[0](img)\n",
    "            buffer.append(x)\n",
    "            for unit in self.units[1:-1]:\n",
    "                _, x = unit.update(x, buffer.pop(0))\n",
    "                buffer.append(x)\n",
    "\n",
    "            loss, x = self.units[-1].update(x, img)\n",
    "\n",
    "            all_loss.append(loss.detach().cpu().numpy())\n",
    "        return np.mean(all_loss)\n"
   ]
  }
 ],
 "metadata": {
  "kernelspec": {
   "display_name": "uer",
   "language": "python",
   "name": "python3"
  },
  "language_info": {
   "codemirror_mode": {
    "name": "ipython",
    "version": 3
   },
   "file_extension": ".py",
   "mimetype": "text/x-python",
   "name": "python",
   "nbconvert_exporter": "python",
   "pygments_lexer": "ipython3",
   "version": "3.8.15"
  },
  "orig_nbformat": 4
 },
 "nbformat": 4,
 "nbformat_minor": 2
}
