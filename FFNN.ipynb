{
 "cells": [
  {
   "cell_type": "code",
   "execution_count": 18,
   "metadata": {},
   "outputs": [
    {
     "data": {
      "text/plain": [
       "device(type='cuda', index=0)"
      ]
     },
     "execution_count": 18,
     "metadata": {},
     "output_type": "execute_result"
    }
   ],
   "source": [
    "import torch\n",
    "from torchvision import datasets\n",
    "from torchvision import transforms\n",
    "import matplotlib.pyplot as plt\n",
    "\n",
    "# Transforms images to a PyTorch Tensor\n",
    "tensor_transform = transforms.ToTensor()\n",
    "\n",
    "# Download the MNIST Dataset\n",
    "dataset = datasets.MNIST(root=\"./data\",\n",
    "                         train=True,\n",
    "                         download=True,\n",
    "                         transform=tensor_transform)\n",
    "\n",
    "# DataLoader is used to load the dataset\n",
    "# for training\n",
    "loader = torch.utils.data.DataLoader(dataset=dataset,\n",
    "                                     batch_size=1024,\n",
    "                                     shuffle=True,\n",
    "                                     drop_last=True)\n",
    "\n",
    "device = torch.device(\"cuda:0\" if torch.cuda.is_available() else \"cpu\")\n",
    "device"
   ]
  },
  {
   "cell_type": "code",
   "execution_count": 2,
   "metadata": {},
   "outputs": [],
   "source": [
    "# Creating a PyTorch class\n",
    "# 28*28 ==> 9 ==> 28*28\n",
    "class AE(torch.nn.Module):\n",
    "    def __init__(self):\n",
    "        super().__init__()\n",
    "\n",
    "        # Building an linear encoder with Linear\n",
    "        # layer followed by Relu activation function\n",
    "        # 784 ==> 9\n",
    "        self.encoder = torch.nn.Sequential(\n",
    "            torch.nn.Linear(28 * 28, 128),\n",
    "            torch.nn.ReLU(),\n",
    "            torch.nn.Linear(128, 64),\n",
    "            torch.nn.ReLU(),\n",
    "            torch.nn.Linear(64, 36),\n",
    "            torch.nn.ReLU(),\n",
    "            torch.nn.Linear(36, 18),\n",
    "            torch.nn.ReLU(),\n",
    "            torch.nn.Linear(18, 9)\n",
    "        )\n",
    "\n",
    "        # Building an linear decoder with Linear\n",
    "        # layer followed by Relu activation function\n",
    "        # The Sigmoid activation function\n",
    "        # outputs the value between 0 and 1\n",
    "        # 9 ==> 784\n",
    "        self.decoder = torch.nn.Sequential(\n",
    "            torch.nn.Linear(9, 18),\n",
    "            torch.nn.ReLU(),\n",
    "            torch.nn.Linear(18, 36),\n",
    "            torch.nn.ReLU(),\n",
    "            torch.nn.Linear(36, 64),\n",
    "            torch.nn.ReLU(),\n",
    "            torch.nn.Linear(64, 128),\n",
    "            torch.nn.ReLU(),\n",
    "            torch.nn.Linear(128, 28 * 28),\n",
    "            torch.nn.Sigmoid()\n",
    "        )\n",
    "\n",
    "    def forward(self, x):\n",
    "        encoded = self.encoder(x)\n",
    "        decoded = self.decoder(encoded)\n",
    "        return decoded\n"
   ]
  },
  {
   "cell_type": "code",
   "execution_count": 8,
   "metadata": {},
   "outputs": [],
   "source": [
    "# Model Initialization\n",
    "model = AE()\n",
    "\n",
    "# Validation using MSE Loss function\n",
    "loss_function = torch.nn.MSELoss()\n",
    "\n",
    "# Using an Adam Optimizer with lr = 0.1\n",
    "optimizer = torch.optim.AdamW(model.parameters(),lr=1e-3)"
   ]
  },
  {
   "cell_type": "code",
   "execution_count": 9,
   "metadata": {},
   "outputs": [
    {
     "name": "stderr",
     "output_type": "stream",
     "text": [
      "Epoch: 1, Loss: 0.0716: 100%|██████████| 59/59 [00:04<00:00, 14.45it/s]\n",
      "Epoch: 2, Loss: 0.0668: 100%|██████████| 59/59 [00:04<00:00, 14.28it/s]\n",
      "Epoch: 3, Loss: 0.0636: 100%|██████████| 59/59 [00:04<00:00, 14.57it/s]\n",
      "Epoch: 4, Loss: 0.0612: 100%|██████████| 59/59 [00:04<00:00, 14.60it/s]\n",
      "Epoch: 5, Loss: 0.0597: 100%|██████████| 59/59 [00:04<00:00, 13.92it/s]\n",
      "Epoch: 6, Loss: 0.0555: 100%|██████████| 59/59 [00:04<00:00, 13.49it/s]\n",
      "Epoch: 7, Loss: 0.0549: 100%|██████████| 59/59 [00:04<00:00, 13.27it/s]\n",
      "Epoch: 8, Loss: 0.0538: 100%|██████████| 59/59 [00:04<00:00, 13.18it/s]\n",
      "Epoch: 9, Loss: 0.0519: 100%|██████████| 59/59 [00:04<00:00, 12.87it/s]\n",
      "Epoch: 10, Loss: 0.0510: 100%|██████████| 59/59 [00:04<00:00, 13.12it/s]\n",
      "Epoch: 11, Loss: 0.0511: 100%|██████████| 59/59 [00:04<00:00, 13.38it/s]\n",
      "Epoch: 12, Loss: 0.0492: 100%|██████████| 59/59 [00:04<00:00, 13.35it/s]\n",
      "Epoch: 13, Loss: 0.0490: 100%|██████████| 59/59 [00:04<00:00, 13.47it/s]\n",
      "Epoch: 14, Loss: 0.0458: 100%|██████████| 59/59 [00:04<00:00, 12.96it/s]\n",
      "Epoch: 15, Loss: 0.0450: 100%|██████████| 59/59 [00:04<00:00, 12.97it/s]\n",
      "Epoch: 16, Loss: 0.0433: 100%|██████████| 59/59 [00:04<00:00, 11.94it/s]\n",
      "Epoch: 17, Loss: 0.0422: 100%|██████████| 59/59 [00:04<00:00, 12.82it/s]\n",
      "Epoch: 18, Loss: 0.0401: 100%|██████████| 59/59 [00:04<00:00, 12.56it/s]\n",
      "Epoch: 19, Loss: 0.0399: 100%|██████████| 59/59 [00:04<00:00, 12.76it/s]\n",
      "Epoch: 20, Loss: 0.0392: 100%|██████████| 59/59 [00:04<00:00, 12.71it/s]\n"
     ]
    }
   ],
   "source": [
    "import tqdm\n",
    "epochs = 20\n",
    "\n",
    "for epoch in range(epochs):\n",
    "    for image, _ in (pbar:=tqdm.tqdm(loader)):\n",
    "        # Reshaping the image to (-1, 784)\n",
    "        image = image.reshape(-1, 28*28)\n",
    "\n",
    "        # Output of Autoencoder\n",
    "        reconstructed = model(image)\n",
    "\n",
    "        # Calculating the loss function\n",
    "        loss = loss_function(reconstructed, image)\n",
    "\n",
    "        # The gradients are set to zero,\n",
    "        # the gradient is computed and stored.\n",
    "        # .step() performs parameter update\n",
    "        optimizer.zero_grad()\n",
    "        loss.backward()\n",
    "        optimizer.step()\n",
    "\n",
    "        # show the loss\n",
    "        pbar.set_description(f\"Epoch: {epoch+1}, Loss: {loss.item():.4f}\")\n"
   ]
  },
  {
   "cell_type": "code",
   "execution_count": 10,
   "metadata": {},
   "outputs": [
    {
     "data": {
      "image/png": "[encoded data removed]",
      "text/plain": [
       "<Figure size 1000x500 with 2 Axes>"
      ]
     },
     "metadata": {},
     "output_type": "display_data"
    }
   ],
   "source": [
    "# Plotting the reconstructed image\n",
    "# and the original image\n",
    "def plot_image(image, reconstructed):\n",
    "    plt.figure(figsize=(10, 5))\n",
    "    plt.subplot(1, 2, 1)\n",
    "    plt.imshow(image.reshape(28, 28), cmap=\"gray\")\n",
    "    plt.title(\"Original Image\")\n",
    "    plt.subplot(1, 2, 2)\n",
    "    plt.imshow(reconstructed.reshape(28, 28), cmap=\"gray\")\n",
    "    plt.title(\"Reconstructed Image\")\n",
    "    plt.show()\n",
    "\n",
    "# pick a random image\n",
    "image, _ = dataset[0]\n",
    "plot_image(image, model(image.reshape(-1, 28*28)).detach())"
   ]
  },
  {
   "cell_type": "code",
   "execution_count": 2,
   "metadata": {},
   "outputs": [],
   "source": [
    "import numpy as np\n",
    "\n",
    "class FFUnit(torch.nn.Module):\n",
    "    def __init__(self, input_size, output_size, lr=1e-3, activation=None):\n",
    "        super().__init__()\n",
    "        self.input_size = input_size\n",
    "        self.output_size = output_size\n",
    "        self.lr = lr\n",
    "\n",
    "        self.W = torch.nn.Linear(input_size, output_size)\n",
    "        self.actv = activation\n",
    "\n",
    "        self.loss = torch.nn.MSELoss()\n",
    "        self.optimizer = torch.optim.AdamW(self.parameters(),lr=lr)\n",
    "    \n",
    "    def init_parameters(self, img, times=10):\n",
    "        ae_tmp = torch.nn.Sequential(\n",
    "            self.W,\n",
    "            torch.nn.Linear(self.output_size, self.input_size)\n",
    "        ).to(device)\n",
    "        optimizer_tmp = torch.optim.AdamW(ae_tmp.parameters(),lr=1e-3)\n",
    "\n",
    "        all_loss = []\n",
    "        for i in range(times):\n",
    "            x = ae_tmp[0](img)\n",
    "            img_out = ae_tmp[1](x)\n",
    "            loss = self.loss(img, img_out)\n",
    "            optimizer_tmp.zero_grad()\n",
    "            loss.backward()\n",
    "            optimizer_tmp.step()\n",
    "            all_loss.append(loss.detach().cpu().numpy())\n",
    "        return np.mean(all_loss), x.detach() \n",
    "\n",
    "    def update(self, new_in, past_out):\n",
    "        new_out = self.W(new_in)\n",
    "        if self.actv is not None:\n",
    "            new_out = self.actv(new_out)\n",
    "\n",
    "        # 由于autoencoder的原理，我们可以估计理想的l(F(x))应该等价于一个线性模型 y = x\n",
    "        # l(F(past_out)) = l(new) = past_out\n",
    "        loss = self.loss(past_out, new_out)\n",
    "\n",
    "        self.optimizer.zero_grad()\n",
    "        loss.backward()\n",
    "        self.optimizer.step()\n",
    "\n",
    "        return loss.detach(), self.forward(new_in)\n",
    "\n",
    "    def forward(self, x):\n",
    "        with torch.no_grad():\n",
    "            new_out = new_out = self.W(x)\n",
    "            if self.actv is not None:\n",
    "                new_out = self.actv(new_out)\n",
    "        return new_out"
   ]
  },
  {
   "cell_type": "code",
   "execution_count": 19,
   "metadata": {},
   "outputs": [],
   "source": [
    "import tqdm\n",
    "import numpy as np\n",
    "\n",
    "\n",
    "class FFAE(torch.nn.Module):\n",
    "    def __init__(self, eps=1e-2, init_dataloader=None):\n",
    "        super().__init__()\n",
    "        self.eps = eps\n",
    "        self.units = torch.nn.Sequential(\n",
    "            FFUnit(28*28, 128, lr=1e-1 ,activation=torch.nn.LeakyReLU()),\n",
    "            FFUnit(128, 64, lr=1e-3 , activation=torch.nn.LeakyReLU()),\n",
    "            FFUnit(64, 36,  lr=1e-3 ,activation=torch.nn.LeakyReLU()),\n",
    "            FFUnit(36, 18,  lr=1e-3 , activation=torch.nn.LeakyReLU()),\n",
    "            FFUnit(18, 9,lr=1e-3 ),\n",
    "            FFUnit(9, 18,lr=1e-3 ),\n",
    "            FFUnit(18, 36,  lr=1e-3 ,activation=torch.nn.LeakyReLU()),\n",
    "            FFUnit(36, 64,  lr=1e-3 ,activation=torch.nn.LeakyReLU()),\n",
    "            FFUnit(64, 128, lr=1e-3 , activation=torch.nn.LeakyReLU()),\n",
    "            FFUnit(128, 28*28,  lr=1e-3, activation=torch.nn.Sigmoid()),\n",
    "        )\n",
    "        self.loss = torch.nn.MSELoss()\n",
    "\n",
    "        if init_dataloader is not None:\n",
    "            for image, _ in (pbar := tqdm.tqdm(loader)):\n",
    "                # Reshaping the image to (-1, 784)\n",
    "                x = image.reshape(-1, 28*28).to(device)\n",
    "                loss = 0\n",
    "                for unit in self.units:\n",
    "                    loss, x = unit.init_parameters(x)\n",
    "                pbar.set_description(f\"Loss: {loss.item():.4f}\")\n",
    "        self.buffer = []\n",
    "\n",
    "    def forward(self, x):\n",
    "        with torch.no_grad():\n",
    "            x = self.units(x)\n",
    "        return x\n",
    "\n",
    "    def update(self, img):\n",
    "        # img = x.clone().detach()\n",
    "        x = img.clone().detach()\n",
    "        if len(self.buffer) == 0:\n",
    "            with torch.no_grad():\n",
    "                for unit in self.units:\n",
    "                    x = unit(x)\n",
    "                    self.buffer.append(x)\n",
    "       \n",
    "        _ = self.units[0].update(self.buffer.pop(-1), self.buffer.pop(0))\n",
    "        x = self.units[0](img)\n",
    "        self.buffer.append(x)\n",
    "        for unit in self.units[1:-1]:\n",
    "            _, x = unit.update(x, self.buffer.pop(0))\n",
    "            self.buffer.append(x)\n",
    "\n",
    "        loss, x = self.units[-1].update(x, img)\n",
    "        self.buffer.append(x)\n",
    "        return loss.detach().cpu().numpy()\n"
   ]
  },
  {
   "cell_type": "code",
   "execution_count": 20,
   "metadata": {},
   "outputs": [
    {
     "name": "stderr",
     "output_type": "stream",
     "text": [
      "Loss: 0.0056: 100%|██████████| 58/58 [00:09<00:00,  6.07it/s]\n"
     ]
    }
   ],
   "source": [
    "model = FFAE(init_dataloader=loader).to(device)"
   ]
  },
  {
   "cell_type": "code",
   "execution_count": 21,
   "metadata": {},
   "outputs": [
    {
     "name": "stderr",
     "output_type": "stream",
     "text": [
      "Epoch: 1, Loss: 0.1773: 100%|██████████| 58/58 [00:03<00:00, 15.56it/s]\n",
      "Epoch: 2, Loss: 0.1409: 100%|██████████| 58/58 [00:03<00:00, 15.05it/s]\n",
      "Epoch: 3, Loss: 0.1175: 100%|██████████| 58/58 [00:03<00:00, 15.36it/s]\n",
      "Epoch: 4, Loss: 0.1028: 100%|██████████| 58/58 [00:03<00:00, 15.55it/s]\n",
      "Epoch: 5, Loss: 0.0936: 100%|██████████| 58/58 [00:03<00:00, 15.37it/s]\n",
      "Epoch: 6, Loss: 0.0863: 100%|██████████| 58/58 [00:03<00:00, 15.17it/s]\n",
      "Epoch: 7, Loss: 0.0827: 100%|██████████| 58/58 [00:03<00:00, 15.63it/s]\n",
      "Epoch: 8, Loss: 0.0788: 100%|██████████| 58/58 [00:03<00:00, 15.63it/s]\n",
      "Epoch: 9, Loss: 0.0773: 100%|██████████| 58/58 [00:03<00:00, 15.80it/s]\n",
      "Epoch: 10, Loss: 0.0752: 100%|██████████| 58/58 [00:03<00:00, 15.32it/s]\n",
      "Epoch: 11, Loss: 0.0741: 100%|██████████| 58/58 [00:03<00:00, 15.76it/s]\n",
      "Epoch: 12, Loss: 0.0740: 100%|██████████| 58/58 [00:03<00:00, 15.74it/s]\n",
      "Epoch: 13, Loss: 0.0722: 100%|██████████| 58/58 [00:03<00:00, 15.76it/s]\n",
      "Epoch: 14, Loss: 0.0730: 100%|██████████| 58/58 [00:03<00:00, 15.24it/s]\n",
      "Epoch: 15, Loss: 0.0719: 100%|██████████| 58/58 [00:03<00:00, 15.77it/s]\n",
      "Epoch: 16, Loss: 0.0706: 100%|██████████| 58/58 [00:03<00:00, 15.87it/s]\n",
      "Epoch: 17, Loss: 0.0713: 100%|██████████| 58/58 [00:03<00:00, 15.82it/s]\n",
      "Epoch: 18, Loss: 0.0711: 100%|██████████| 58/58 [00:03<00:00, 15.32it/s]\n",
      "Epoch: 19, Loss: 0.0705: 100%|██████████| 58/58 [00:03<00:00, 15.83it/s]\n",
      "Epoch: 20, Loss: 0.0716: 100%|██████████| 58/58 [00:03<00:00, 15.86it/s]\n"
     ]
    }
   ],
   "source": [
    "epochs = 20\n",
    "times = 10\n",
    "\n",
    "for epoch in range(epochs):\n",
    "    # times //= 2\n",
    "    # times = max(times, 10)\n",
    "    for image, _ in (pbar:=tqdm.tqdm(loader)):\n",
    "        # Reshaping the image to (-1, 784)\n",
    "        image = image.reshape(-1, 28*28).to(device)\n",
    "        \n",
    "        \n",
    "        loss = model.update(image)\n",
    "      \n",
    "        # show the loss\n",
    "        pbar.set_description(f\"Epoch: {epoch+1}, Loss: {loss.item():.4f}\")"
   ]
  },
  {
   "cell_type": "code",
   "execution_count": 22,
   "metadata": {},
   "outputs": [
    {
     "data": {
      "image/png": "[encoded data removed]",
      "text/plain": [
       "<Figure size 1000x500 with 2 Axes>"
      ]
     },
     "metadata": {},
     "output_type": "display_data"
    }
   ],
   "source": [
    "# Plotting the reconstructed image\n",
    "# and the original image\n",
    "def plot_image(image, reconstructed):\n",
    "    plt.figure(figsize=(10, 5))\n",
    "    plt.subplot(1, 2, 1)\n",
    "    plt.imshow(image.reshape(28, 28), cmap=\"gray\")\n",
    "    plt.title(\"Original Image\")\n",
    "    plt.subplot(1, 2, 2)\n",
    "    plt.imshow(reconstructed.reshape(28, 28), cmap=\"gray\")\n",
    "    plt.title(\"Reconstructed Image\")\n",
    "    plt.show()\n",
    "\n",
    "# pick a random image\n",
    "image, _ = dataset[1]\n",
    "plot_image(image, model(image.reshape(-1, 28*28).to(device)).detach().cpu())"
   ]
  },
  {
   "cell_type": "code",
   "execution_count": 3,
   "metadata": {},
   "outputs": [
    {
     "data": {
      "text/plain": [
       "tensor([[ 2.5000, -2.0000,  0.5000],\n",
       "        [ 2.0000, -1.0000,  0.0000],\n",
       "        [-3.1667,  2.0000, -0.1667]])"
      ]
     },
     "execution_count": 3,
     "metadata": {},
     "output_type": "execute_result"
    }
   ],
   "source": [
    "import torch\n",
    "a = torch.tensor([[1.0, 4.0, 3.0],\n",
    "        [2.0, 7.0, 6.0],\n",
    "        [5.0, 8.0, 9.0]])\n",
    "\n",
    "torch.inverse(a)"
   ]
  },
  {
   "cell_type": "code",
   "execution_count": 5,
   "metadata": {},
   "outputs": [
    {
     "data": {
      "text/plain": [
       "tensor([[ 1.7000, -1.4000,  0.3000],\n",
       "        [ 1.2000, -0.4000, -0.2000],\n",
       "        [-2.1000,  1.2000,  0.1000]])"
      ]
     },
     "execution_count": 5,
     "metadata": {},
     "output_type": "execute_result"
    }
   ],
   "source": [
    "b = a + 1\n",
    "torch.inverse(b)"
   ]
  },
  {
   "cell_type": "code",
   "execution_count": 6,
   "metadata": {},
   "outputs": [
    {
     "data": {
      "text/plain": [
       "tensor([[0.5000, 0.8000, 0.7500],\n",
       "        [0.6667, 0.8750, 0.8571],\n",
       "        [0.8333, 0.8889, 0.9000]])"
      ]
     },
     "execution_count": 6,
     "metadata": {},
     "output_type": "execute_result"
    }
   ],
   "source": [
    "a/b"
   ]
  },
  {
   "cell_type": "code",
   "execution_count": 7,
   "metadata": {},
   "outputs": [
    {
     "data": {
      "text/plain": [
       "tensor([[ 0.2000,  0.6000, -0.2000],\n",
       "        [-0.8000,  1.6000, -0.2000],\n",
       "        [-0.8000,  0.6000,  0.8000]])"
      ]
     },
     "execution_count": 7,
     "metadata": {},
     "output_type": "execute_result"
    }
   ],
   "source": [
    "a@torch.inverse(b)"
   ]
  },
  {
   "cell_type": "code",
   "execution_count": 10,
   "metadata": {},
   "outputs": [
    {
     "data": {
      "text/plain": [
       "tensor([ 4.5348,  2.5690, -0.0067, -1.3955, -1.0628],\n",
       "       grad_fn=<SqueezeBackward3>)"
      ]
     },
     "execution_count": 10,
     "metadata": {},
     "output_type": "execute_result"
    }
   ],
   "source": [
    "test = torch.nn.Parameter(torch.randn(8, 5))\n",
    "test_var = torch.randn(8)\n",
    "test_var @ test "
   ]
  },
  {
   "cell_type": "code",
   "execution_count": null,
   "metadata": {},
   "outputs": [],
   "source": [
    "# 3 -> m1 -> a\n",
    "# a -> m2 -> 1\n",
    "\n",
    "# (1, 3) -> m1 -> c\n",
    "# c -> m2 -> 2\n",
    "\n",
    "# (2, 3) -> m1 -> ?"
   ]
  },
  {
   "cell_type": "code",
   "execution_count": null,
   "metadata": {},
   "outputs": [],
   "source": [
    "    \n",
    "def update_by_guji(self, t_plus_2_out, t_plus_1_in, t_in):\n",
    "    # past_past_out = self.relu(past_past @ self.W_past)\n",
    "    # past = F(past_past_out)\n",
    "    # past_out = self.sigmoid(past @ self.W)\n",
    "    # past_out = past @ self.W\n",
    "    # new = F(past_out)\n",
    "    # diff = new - past # which expected to be 0\n",
    "    # new_out = self.sigmoid(new @ self.W)\n",
    "    \n",
    "    t_plus_1_out = self.relu(t_plus_1_in @ self.W)\n",
    "    # t_in = F(t_plus_1_out)\n",
    "    # t_plus_1_in = F(t_plus_2_out)\n",
    "    # 如果t_plus_1_out和t_plus_2_out之间的改变不大，\n",
    "    # 那么倒数g = (t_in - t_plus_1_in) / (t_plus_1_out - t_plus_2_out)\n",
    "    g = (t_in - t_plus_1_in) / (t_plus_1_out - t_plus_2_out)\n",
    "\n",
    "    # 作为一个autoencoder，我们希望past和new尽可能相近，并且导致这种改变的是因为self.W和self.W_past的改变\n",
    "    \n",
    "    # 如果past_out和past_past_out之间的改变不大，\n",
    "    # 那么倒数g = (new - past) / (past_out - past_past_out)\n",
    "    # g = (new - past) / (past_out - past_past_out)\n",
    "\n",
    "\n",
    "    # new_out = self.relu(new @ self.W) # after update"
   ]
  }
 ],
 "metadata": {
  "kernelspec": {
   "display_name": "uer",
   "language": "python",
   "name": "python3"
  },
  "language_info": {
   "codemirror_mode": {
    "name": "ipython",
    "version": 3
   },
   "file_extension": ".py",
   "mimetype": "text/x-python",
   "name": "python",
   "nbconvert_exporter": "python",
   "pygments_lexer": "ipython3",
   "version": "3.8.15"
  },
  "orig_nbformat": 4
 },
 "nbformat": 4,
 "nbformat_minor": 2
}
