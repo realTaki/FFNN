{
 "cells": [
  {
   "cell_type": "code",
   "execution_count": 43,
   "metadata": {},
   "outputs": [],
   "source": [
    "class Pool:\n",
    "    def __init__(self, rD, rF):\n",
    "        self.rD = rD\n",
    "        self.rF = rF\n",
    "        self.sD = rD\n",
    "        self.sF = rF\n",
    "        # self.lock = \n",
    "        # self.limitrF = rF\n",
    "        \n",
    "    def getPrice(self):\n",
    "        return self.rD/self.rF\n",
    "        \n",
    "    def buyF(self, n):\n",
    "        # assert n > 0\n",
    "        # assert self.rF > n\n",
    "        # if self.getPrice()> 1.02:\n",
    "        #     return False\n",
    "        if self.rF > n > 0:\n",
    "            # exchange\n",
    "            K = self.rD*self.rF\n",
    "            self.rF -= n\n",
    "            rD = K/self.rF\n",
    "            incomeD = rD - self.rD\n",
    "            # supply change\n",
    "            self.sD += incomeD\n",
    "            self.sF += (n*0.9985) # 0.15% fee\n",
    "            # net asset change\n",
    "            # [1]repair by reduce rD\n",
    "            # net = self.sD/self.sF\n",
    "            # self.rD = self.rF * net\n",
    "            # [2]do not repair\n",
    "            self.rD = rD\n",
    "            return True\n",
    "        else:\n",
    "            return False\n",
    "    \n",
    "    def sellF(self, n):\n",
    "        # assert n > 0\n",
    "        # assert self.sF > n # 可能市面上都没有足够的F了 \n",
    "        # 如果该池铸出的流动性全部收回了，此处应当如何处理？\n",
    "        if self.sF > n >0:\n",
    "            # exchange\n",
    "            K = self.rD*self.rF\n",
    "            rF = self.rF + n\n",
    "            rD = K/rF\n",
    "            outD = self.rD - rD\n",
    "            # supply change\n",
    "            self.sD -= (outD*0.9985) # 0.15% fee\n",
    "            self.sF -= n\n",
    "            # net asset change TODO--\n",
    "            # net = self.sD/self.sF\n",
    "            # [1] repair by raise rD first？\n",
    "            # if rF * net < self.sD:\n",
    "            #     self.rF = rF\n",
    "            #     self.rD = rF * net\n",
    "            # else:\n",
    "            #     # repair by reduce rF\n",
    "            #     self.rD = rD\n",
    "            #     self.rF = rD / net\n",
    "            # [2] only repair by reduce rF\n",
    "            # self.rD = rD\n",
    "            # self.rF = rD / net\n",
    "            # [3] do not repair\n",
    "            self.rD = rD\n",
    "            self.rF = rF\n",
    "            return True\n",
    "        else:\n",
    "            return False"
   ]
  },
  {
   "cell_type": "code",
   "execution_count": 35,
   "metadata": {},
   "outputs": [],
   "source": [
    "AFpool = Pool(1000, 1000)\n",
    "BFPool = Pool(1000, 1000)\n",
    "\n",
    "# 加如市面上有无限供应的A=0.5B\n",
    "# B为稳定币，也就是A大跌至0.5B\n",
    "# 1. 卖出A买入F\n",
    "# 2. 卖出F买入B\n",
    "# 3. 2:1\n",
    "while AFpool.getPrice()/BFPool.getPrice() < 2:\n",
    "    AFpool.buyF(1)\n",
    "    if not BFPool.sellF(1):\n",
    "        break"
   ]
  },
  {
   "cell_type": "code",
   "execution_count": 10,
   "metadata": {},
   "outputs": [
    {
     "data": {
      "text/plain": [
       "(1171.7419999999893,\n",
       " 1207.729468599033,\n",
       " 828,\n",
       " 1207.729468599033,\n",
       " 1.4586104693225037)"
      ]
     },
     "execution_count": 10,
     "metadata": {},
     "output_type": "execute_result"
    }
   ],
   "source": [
    "AFpool.sF, AFpool.sD, AFpool.rF, AFpool.rD, AFpool.getPrice()"
   ]
  },
  {
   "cell_type": "code",
   "execution_count": 11,
   "metadata": {},
   "outputs": [
    {
     "data": {
      "text/plain": [
       "(828, 853.4624573378842, 1172, 853.2423208191127, 0.7280224580367856)"
      ]
     },
     "execution_count": 11,
     "metadata": {},
     "output_type": "execute_result"
    }
   ],
   "source": [
    "BFPool.sF, BFPool.sD, BFPool.rF, BFPool.rD, BFPool.getPrice()"
   ]
  },
  {
   "cell_type": "code",
   "execution_count": 13,
   "metadata": {},
   "outputs": [
    {
     "data": {
      "text/plain": [
       "0.7287576055498202"
      ]
     },
     "execution_count": 13,
     "metadata": {},
     "output_type": "execute_result"
    }
   ],
   "source": [
    "(AFpool.sD*0.5+BFPool.sD)/(AFpool.sF+BFPool.sF)"
   ]
  },
  {
   "cell_type": "code",
   "execution_count": 44,
   "metadata": {},
   "outputs": [
    {
     "data": {
      "text/plain": [
       "(1505.9834999999991, 664.9551495016616)"
      ]
     },
     "execution_count": 44,
     "metadata": {},
     "output_type": "execute_result"
    }
   ],
   "source": [
    "AFpool = Pool(1000, 1000)\n",
    "BFPool = Pool(1000, 1000)\n",
    "totalF = 2000\n",
    "\n",
    "# 稳定币A和B，其中A崩盘至0，则A大量买入，B大量卖出至价格为0.5\n",
    "while True:\n",
    "    totalF += 0.9985\n",
    "    if not AFpool.buyF(1):\n",
    "        BFPool\n",
    "        break\n",
    "\n",
    "while True:  \n",
    "    if BFPool.getPrice()>BFPool.sD/totalF and BFPool.sellF(1):\n",
    "        totalF -= 1\n",
    "        continue\n",
    "    else:\n",
    "        break\n",
    "\n",
    "totalF, BFPool.sD"
   ]
  },
  {
   "cell_type": "code",
   "execution_count": 37,
   "metadata": {},
   "outputs": [
    {
     "data": {
      "text/plain": [
       "(1122.815499999993,\n",
       " 1140.250855188141,\n",
       " 877,\n",
       " 1140.250855188141,\n",
       " 1.3001720127572873)"
      ]
     },
     "execution_count": 37,
     "metadata": {},
     "output_type": "execute_result"
    }
   ],
   "source": [
    "AFpool.sF, AFpool.sD, AFpool.rF, AFpool.rD, AFpool.getPrice()"
   ]
  },
  {
   "cell_type": "code",
   "execution_count": 45,
   "metadata": {},
   "outputs": [
    {
     "data": {
      "text/plain": [
       "(495, 664.9551495016616, 1505, 664.4518272425253, 0.4414962307259304)"
      ]
     },
     "execution_count": 45,
     "metadata": {},
     "output_type": "execute_result"
    }
   ],
   "source": [
    "BFPool.sF, BFPool.sD, BFPool.rF, BFPool.rD, BFPool.getPrice()"
   ]
  },
  {
   "cell_type": "code",
   "execution_count": null,
   "metadata": {},
   "outputs": [],
   "source": [
    "# 发生某一池买入时，允许其他池下修市价对齐净值。"
   ]
  },
  {
   "cell_type": "code",
   "execution_count": 76,
   "metadata": {},
   "outputs": [],
   "source": [
    "class Pooltest:\n",
    "    def __init__(self, rD, rF):\n",
    "        self.rD = rD\n",
    "        self.rF = rF\n",
    "        self.sD = rD\n",
    "        self.sF = rF\n",
    "        # self.limitrF = rF\n",
    "        \n",
    "    def getPrice(self):\n",
    "        return self.rD/self.rF\n",
    "        \n",
    "    def buyF(self, n):\n",
    "        if self.rF > n > 0:\n",
    "            # exchange\n",
    "            K = self.rD*self.rF\n",
    "            self.rF -= n\n",
    "            rD = K/self.rF\n",
    "            incomeD = rD - self.rD\n",
    "            # supply change\n",
    "            self.sD += incomeD\n",
    "            self.sF += (n*0.9985) # 0.15% fee\n",
    "            self.rD = rD\n",
    "            return incomeD\n",
    "        else:\n",
    "            return 0\n",
    "    \n",
    "    def sellF(self, n):\n",
    "        # if self.sF > n >0:\n",
    "        if  n >0:\n",
    "            # exchange\n",
    "            K = self.rD*self.rF\n",
    "            rF = self.rF + n\n",
    "            rD = K/rF\n",
    "            outD = self.rD - rD\n",
    "            # supply change\n",
    "            self.sD -= (outD*0.9985) # 0.15% fee\n",
    "            self.sF -= n\n",
    "            self.rD = rD\n",
    "            self.rF = rF\n",
    "            return outD\n",
    "        else:\n",
    "            return 0"
   ]
  },
  {
   "cell_type": "code",
   "execution_count": 82,
   "metadata": {},
   "outputs": [
    {
     "data": {
      "image/png": "[encoded data removed]",
      "text/plain": [
       "<Figure size 640x480 with 1 Axes>"
      ]
     },
     "metadata": {},
     "output_type": "display_data"
    }
   ],
   "source": [
    "p = Pooltest(1000000, 1)\n",
    "slip = []\n",
    "\n",
    "for i in range(900):\n",
    "    p_t = p.getPrice()\n",
    "    p_r = p.sellF(1)\n",
    "    if p_r == 0:\n",
    "        break\n",
    "    slip.append(p_r/p_t)\n",
    "\n",
    "import matplotlib.pyplot as plt\n",
    "plt.plot(slip)\n",
    "plt.show()"
   ]
  },
  {
   "cell_type": "code",
   "execution_count": 80,
   "metadata": {},
   "outputs": [
    {
     "data": {
      "text/plain": [
       "(1000.0000000000002, 1000)"
      ]
     },
     "execution_count": 80,
     "metadata": {},
     "output_type": "execute_result"
    }
   ],
   "source": [
    "p.rD, p.rF"
   ]
  }
 ],
 "metadata": {
  "kernelspec": {
   "display_name": "py310",
   "language": "python",
   "name": "python3"
  },
  "language_info": {
   "codemirror_mode": {
    "name": "ipython",
    "version": 3
   },
   "file_extension": ".py",
   "mimetype": "text/x-python",
   "name": "python",
   "nbconvert_exporter": "python",
   "pygments_lexer": "ipython3",
   "version": "3.10.4"
  },
  "orig_nbformat": 4
 },
 "nbformat": 4,
 "nbformat_minor": 2
}
